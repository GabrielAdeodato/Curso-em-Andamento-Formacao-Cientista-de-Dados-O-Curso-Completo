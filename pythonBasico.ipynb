{
 "cells": [
  {
   "cell_type": "code",
   "execution_count": 66,
   "id": "7c84030f-5678-459e-b338-50a99c592080",
   "metadata": {},
   "outputs": [
    {
     "name": "stdin",
     "output_type": "stream",
     "text": [
      "digite sua nota:  4.1\n"
     ]
    },
    {
     "name": "stdout",
     "output_type": "stream",
     "text": [
      "Aluno em recuperação\n"
     ]
    }
   ],
   "source": [
    "media = float(7)\n",
    "\n",
    "notaAluno = input(\"digite sua nota: \")\n",
    "notaAluno = float(notaAluno)\n",
    "\n",
    "if (notaAluno >= media):\n",
    "    print(\"Aluno aprovado!!!\")\n",
    "elif (notaAluno >= 4 and notaAluno < 7):\n",
    "    print(\"Aluno em recuperação\")\n",
    "else:\n",
    "    print(\"Aluno reprovado\")\n"
   ]
  },
  {
   "cell_type": "code",
   "execution_count": 61,
   "id": "bd6948f6-9e2c-4a49-9cb0-e366545c8718",
   "metadata": {},
   "outputs": [
    {
     "name": "stdout",
     "output_type": "stream",
     "text": [
      "contador:  1\n",
      "contador:  2\n",
      "contador:  3\n",
      "contador:  4\n",
      "contador:  5\n"
     ]
    }
   ],
   "source": [
    "contador = 1\n",
    "\n",
    "while contador <= 5:\n",
    "    print(\"contador: \", contador)\n",
    "    contador += 1;\n",
    "    \n"
   ]
  },
  {
   "cell_type": "code",
   "execution_count": 35,
   "id": "6957eda1-e2fd-47f0-9e27-81dcd3d63a32",
   "metadata": {},
   "outputs": [
    {
     "name": "stdout",
     "output_type": "stream",
     "text": [
      "cachorro:  0\n",
      "cachorro:  2\n",
      "cachorro:  4\n",
      "cachorro:  6\n",
      "cachorro:  8\n",
      "cachorro:  10\n"
     ]
    }
   ],
   "source": [
    "contador = 0\n",
    "\n",
    "for contador in range(0,11,2):\n",
    "    print(\"cachorro: \", contador)\n",
    "    "
   ]
  },
  {
   "cell_type": "code",
   "execution_count": 38,
   "id": "aecbb0ff-42ec-491b-b25c-ad09523e211c",
   "metadata": {},
   "outputs": [],
   "source": [
    "#dicionario\n",
    "precos = {'lapis': 5.5, 'borracha':  7.0}\n",
    "\n",
    "#sets\n",
    "animais = {'gato', 'cachorro'}\n",
    "\n",
    "#tuplas\n",
    "tp1 = (1,2,3,4,5,6)"
   ]
  },
  {
   "cell_type": "code",
   "execution_count": 42,
   "id": "732927a9-e379-4863-a8f1-e4d73b174dc1",
   "metadata": {},
   "outputs": [
    {
     "name": "stdout",
     "output_type": "stream",
     "text": [
      "[12 34 26 18 10]\n",
      "int32\n"
     ]
    }
   ],
   "source": [
    "#NumPy\n",
    "import numpy as np\n",
    "\n",
    "a = np.array ([12,34,26,18,10])\n",
    "print(a)\n",
    "print(a.dtype)\n",
    "\n",
    "#Pandas ==> Data frame e series\n",
    "#import pandas as pd\n",
    "\n",
    "#dados = pd.read_csv('basecensus.csv')"
   ]
  },
  {
   "cell_type": "code",
   "execution_count": 52,
   "id": "a124cc6a-d703-4d71-98c7-3b7b1869f47d",
   "metadata": {},
   "outputs": [
    {
     "name": "stdout",
     "output_type": "stream",
     "text": [
      "Wesley Safadão\n"
     ]
    }
   ],
   "source": [
    "def imprime():\n",
    "    print(\"Wesley Safadão\")\n",
    "    \n",
    "imprime()\n",
    "    "
   ]
  },
  {
   "cell_type": "code",
   "execution_count": 68,
   "id": "ae594e93-98b0-4be7-b2e0-e56857cb3fa1",
   "metadata": {},
   "outputs": [
    {
     "name": "stdout",
     "output_type": "stream",
     "text": [
      "15.0\n"
     ]
    }
   ],
   "source": [
    "from statistics import*\n",
    "a = 10\n",
    "b = 20\n",
    "x = (a, b)\n",
    "\n",
    "z = median(x)\n",
    "\n",
    "print(z)"
   ]
  },
  {
   "cell_type": "code",
   "execution_count": 71,
   "id": "765ef809-2fbb-4e28-8a4b-841dc0d314c2",
   "metadata": {},
   "outputs": [
    {
     "name": "stdout",
     "output_type": "stream",
     "text": [
      "A amplitude é:  4\n"
     ]
    }
   ],
   "source": [
    "def amplitude(num):\n",
    "    print(\"A amplitude é: \", max(num) - min(num))\n",
    "\n",
    "numeros = [1,2,3,4,5]\n",
    "\n",
    "amplitude(numeros)\n",
    "\n",
    "\n",
    "    "
   ]
  },
  {
   "cell_type": "code",
   "execution_count": 73,
   "id": "2c091e04-3943-427b-81d4-6ffc7764ea5d",
   "metadata": {},
   "outputs": [
    {
     "name": "stdout",
     "output_type": "stream",
     "text": [
      "c\n",
      "a\n",
      "c\n",
      "h\n",
      "o\n",
      "r\n",
      "r\n",
      "o\n"
     ]
    }
   ],
   "source": [
    "def vertical(palavra):\n",
    "    for n in range (0, len(palavra)):\n",
    "        print(palavra[n])\n",
    "        \n",
    "palavrinha = 'cachorro'        \n",
    "vertical(palavrinha)"
   ]
  },
  {
   "cell_type": "code",
   "execution_count": 80,
   "id": "07553a45-f6a3-48e4-b7a0-d03293165998",
   "metadata": {},
   "outputs": [
    {
     "name": "stdin",
     "output_type": "stream",
     "text": [
      "digite o peso:  100\n"
     ]
    },
    {
     "name": "stdout",
     "output_type": "stream",
     "text": [
      "O transporte não é aceito\n"
     ]
    }
   ],
   "source": [
    "peso = input(\"digite o peso: \")\n",
    "peso = int(peso)\n",
    "\n",
    "if peso <= 10:\n",
    "\tprint(\"Valor da carga é de R$ 50,00\")\n",
    "elif peso >= 11 and peso <=20:\n",
    "\tprint(\"Valor da carga é de R$ 80,00\")\n",
    "else:\n",
    "\tprint(\"O transporte não é aceito\")\n"
   ]
  }
 ],
 "metadata": {
  "kernelspec": {
   "display_name": "Python 3 (ipykernel)",
   "language": "python",
   "name": "python3"
  },
  "language_info": {
   "codemirror_mode": {
    "name": "ipython",
    "version": 3
   },
   "file_extension": ".py",
   "mimetype": "text/x-python",
   "name": "python",
   "nbconvert_exporter": "python",
   "pygments_lexer": "ipython3",
   "version": "3.10.9"
  }
 },
 "nbformat": 4,
 "nbformat_minor": 5
}
